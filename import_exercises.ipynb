{
 "cells": [
  {
   "cell_type": "code",
   "execution_count": 1,
   "metadata": {},
   "outputs": [],
   "source": [
    "import functions_exercises"
   ]
  },
  {
   "cell_type": "code",
   "execution_count": 2,
   "metadata": {},
   "outputs": [],
   "source": [
    "import functions_exercises as fe"
   ]
  },
  {
   "cell_type": "code",
   "execution_count": 3,
   "metadata": {},
   "outputs": [
    {
     "data": {
      "text/plain": [
       "<function functions_exercises.is_vowel(input)>"
      ]
     },
     "execution_count": 3,
     "metadata": {},
     "output_type": "execute_result"
    }
   ],
   "source": [
    "fe.is_vowel"
   ]
  },
  {
   "cell_type": "code",
   "execution_count": 4,
   "metadata": {},
   "outputs": [
    {
     "data": {
      "text/plain": [
       "<function functions_exercises.cal_tip(percent, total)>"
      ]
     },
     "execution_count": 4,
     "metadata": {},
     "output_type": "execute_result"
    }
   ],
   "source": [
    "fe.cal_tip"
   ]
  },
  {
   "cell_type": "code",
   "execution_count": 5,
   "metadata": {},
   "outputs": [
    {
     "data": {
      "text/plain": [
       "3.0"
      ]
     },
     "execution_count": 5,
     "metadata": {},
     "output_type": "execute_result"
    }
   ],
   "source": [
    "fe.cal_tip(.15,20)"
   ]
  },
  {
   "cell_type": "code",
   "execution_count": 12,
   "metadata": {},
   "outputs": [],
   "source": [
    "from functions_exercises import get_letter_grade as glg"
   ]
  },
  {
   "cell_type": "code",
   "execution_count": 14,
   "metadata": {},
   "outputs": [
    {
     "data": {
      "text/plain": [
       "'B'"
      ]
     },
     "execution_count": 14,
     "metadata": {},
     "output_type": "execute_result"
    }
   ],
   "source": [
    "glg(80)"
   ]
  },
  {
   "cell_type": "code",
   "execution_count": 23,
   "metadata": {},
   "outputs": [],
   "source": [
    "import itertools"
   ]
  },
  {
   "cell_type": "code",
   "execution_count": 28,
   "metadata": {},
   "outputs": [
    {
     "name": "stdout",
     "output_type": "stream",
     "text": [
      "[('a', '1'), ('a', '2'), ('a', '3'), ('b', '1'), ('b', '2'), ('b', '3'), ('c', '1'), ('c', '2'), ('c', '3')]\n"
     ]
    }
   ],
   "source": [
    "#How many different ways can you combine a single letter from \"abc\" with either 1, 2, or 3?\n",
    "l1 = ['a', 'b', 'c']\n",
    "l2 = ['1', '2', '3']\n",
    "\n",
    "p = list(itertools.product(l1, l2))\n",
    "\n",
    "print(p)"
   ]
  },
  {
   "cell_type": "code",
   "execution_count": 34,
   "metadata": {},
   "outputs": [
    {
     "name": "stdout",
     "output_type": "stream",
     "text": [
      "[('a', 'a'), ('a', 'b'), ('a', 'c'), ('a', 'd'), ('b', 'a'), ('b', 'b'), ('b', 'c'), ('b', 'd'), ('c', 'a'), ('c', 'b'), ('c', 'c'), ('c', 'd'), ('d', 'a'), ('d', 'b'), ('d', 'c'), ('d', 'd')]\n"
     ]
    }
   ],
   "source": [
    "# How many different combinations are there of 2 letters from \"abcd\"?\n",
    "l1 = ['a', 'b', 'c', 'd']\n",
    "\n",
    "\n",
    "p = list(itertools.product(l1, l2))\n",
    "\n",
    "print(p)"
   ]
  },
  {
   "cell_type": "code",
   "execution_count": 38,
   "metadata": {},
   "outputs": [
    {
     "name": "stdout",
     "output_type": "stream",
     "text": [
      "[('a', 'b'), ('a', 'c'), ('a', 'd'), ('b', 'a'), ('b', 'c'), ('b', 'd'), ('c', 'a'), ('c', 'b'), ('c', 'd'), ('d', 'a'), ('d', 'b'), ('d', 'c')]\n"
     ]
    }
   ],
   "source": [
    "# How many different permutations are there of 2 letters from \"abcd\"?\n",
    "print (list(itertools.permutations('abcd',2)))"
   ]
  },
  {
   "cell_type": "code",
   "execution_count": 34,
   "metadata": {},
   "outputs": [],
   "source": [
    "import json\n",
    "profiles = json.load(open('profiles.json'))"
   ]
  },
  {
   "cell_type": "code",
   "execution_count": 85,
   "metadata": {},
   "outputs": [],
   "source": [
    "import json\n",
    "from collections import Counter"
   ]
  },
  {
   "cell_type": "code",
   "execution_count": 133,
   "metadata": {},
   "outputs": [],
   "source": [
    "total_users = 0\n",
    "active_users = 0\n",
    "inactive_users = 0\n",
    "grand_total_balance = 0\n",
    "average_balance = 0\n",
    "lowest_balance_user = 0\n",
    "highest_balance_user = 0\n",
    "most_common_fruit = 0\n",
    "least_common_fruit = 0\n",
    "balance_list = []\n",
    "favorite_fruit_counter = Counter()\n",
    "unread_messages = 0"
   ]
  },
  {
   "cell_type": "code",
   "execution_count": 134,
   "metadata": {},
   "outputs": [],
   "source": [
    "for profile in profiles:\n",
    "    # total # of guid's\n",
    "    total_users += 1\n",
    "    #total balance + the created new float from a stg\n",
    "    grand_total_balance += float(profile['balance'].replace(\"$\", \"\").replace(\",\", \"\"))\n",
    "    # balance_list thats been appended from a stg to a float\n",
    "    balance_list.append(float(profile['balance'].replace(\"$\", \"\").replace(\",\", \"\")))\n",
    "    #fruit instance counter ... if fruit is mentioned in 'favoritefruit' it gets a count\n",
    "    favorite_fruit_counter[profile['favoriteFruit']] += 1\n",
    "    #if profile isActive T/F it gets a 1 \n",
    "    if profile['isActive']:\n",
    "        active_users += 1\n",
    "    else:\n",
    "        inactive_users += 1\n",
    "    # Extract the number of unread messages from the greeting\n",
    "    greeting = profile['greeting']\n",
    "    start_index = greeting.index('You have ') + 9\n",
    "    end_index = greeting.index(' unread messages')\n",
    "    unread_messages += int(greeting[start_index:end_index])\n"
   ]
  },
  {
   "cell_type": "code",
   "execution_count": 96,
   "metadata": {},
   "outputs": [],
   "source": [
    "# avg balance is the total balance divided by the total users\n",
    "average_balance = grand_total_balance / total_users"
   ]
  },
  {
   "cell_type": "code",
   "execution_count": 97,
   "metadata": {},
   "outputs": [],
   "source": [
    "# lowest balance is the min number from the previously created balance list\n",
    "lowest_balance_user = min(balance_list)"
   ]
  },
  {
   "cell_type": "code",
   "execution_count": 98,
   "metadata": {},
   "outputs": [],
   "source": [
    "#highest balance is the max number from the previously created balance list\n",
    "highest_balance_user = max(balance_list)"
   ]
  },
  {
   "cell_type": "code",
   "execution_count": 101,
   "metadata": {},
   "outputs": [],
   "source": [
    "#counts the most common fruit that is mentioed in the list\n",
    "most_common_fruit = favorite_fruit_counter.most_common(1)[0][0]"
   ]
  },
  {
   "cell_type": "code",
   "execution_count": 99,
   "metadata": {},
   "outputs": [],
   "source": [
    "#counts the most common but with a (-) to make it the least common mentioned in the list\n",
    "least_common_fruit = favorite_fruit_counter.most_common()[-1][0]"
   ]
  },
  {
   "cell_type": "code",
   "execution_count": 136,
   "metadata": {},
   "outputs": [
    {
     "name": "stdout",
     "output_type": "stream",
     "text": [
      "Total number of users: 19\n",
      "Number of active users: 9\n",
      "Number of inactive users: 10\n",
      "Grand total of balances for all users: $52667.02\n",
      "Average balance per user: $0.00\n",
      "User with the lowest balance: $0.00\n",
      "User with the highest balance: $0.00\n",
      "Most common favorite fruit: 0\n",
      "Least common favorite fruit: 0\n",
      "Unread Emails! 210\n"
     ]
    }
   ],
   "source": [
    "#printing out the results of the above lines of code\n",
    "print(\"Total number of users:\", total_users)\n",
    "print(\"Number of active users:\", active_users)\n",
    "print(\"Number of inactive users:\", inactive_users)\n",
    "print(\"Grand total of balances for all users: $%.2f\" % grand_total_balance)\n",
    "print(\"Average balance per user: $%.2f\" % average_balance)\n",
    "print(\"User with the lowest balance: $%.2f\" % lowest_balance_user)\n",
    "print(\"User with the highest balance: $%.2f\" % highest_balance_user)\n",
    "print(\"Most common favorite fruit:\", most_common_fruit)\n",
    "print(\"Least common favorite fruit:\", least_common_fruit)\n",
    "print('Unread Emails!', unread_messages)"
   ]
  }
 ],
 "metadata": {
  "kernelspec": {
   "display_name": "Python 3",
   "language": "python",
   "name": "python3"
  },
  "language_info": {
   "codemirror_mode": {
    "name": "ipython",
    "version": 3
   },
   "file_extension": ".py",
   "mimetype": "text/x-python",
   "name": "python",
   "nbconvert_exporter": "python",
   "pygments_lexer": "ipython3",
   "version": "3.9.6"
  },
  "orig_nbformat": 4
 },
 "nbformat": 4,
 "nbformat_minor": 2
}
