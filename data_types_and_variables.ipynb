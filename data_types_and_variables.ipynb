{
 "cells": [
  {
   "cell_type": "code",
   "execution_count": null,
   "metadata": {},
   "outputs": [],
   "source": [
    "# *******ALL DATA TYPES, OPERATORS, AND VARIABLES EXERSIZE QUESTIONS*****\n",
    "# 1. float string bool string int bool string list dict\n",
    "# 2. string bool float bool string float list dict\n",
    "# 3. * Traceback (most recent call last):\n",
    "#      File \"<stdin>\", line 1, in <module>\n",
    "#      TypeError: can only concatenate str (not \"int\") to str\n",
    "# 2\n",
    "# <class 'int'>\n",
    "# <class 'type'>\n",
    "# * Traceback (most recent call last):\n",
    "#   File \"<stdin>\", line 1, in <module>\n",
    "#   TypeError: can only concatenate str (not \"int\") to str\n",
    "# False\n",
    "# False\n",
    "# False\n",
    "# True\n",
    "# True\n",
    "# 1\n",
    "# False\n",
    "# False\n",
    "# *  File \"<stdin>\", line 1\n",
    "#    4 >= 0 and 1 !== '1'\n",
    "#                   ^\n",
    "#    SyntaxError: invalid syntax\n",
    "# True\n",
    "# True\n",
    "# *   Traceback (most recent call last):\n",
    "#     File \"<stdin>\", line 1, in <module>\n",
    "#     TypeError: can only concatenate list (not \"int\") to list\n",
    "# [1, 2]\n",
    "# [1, 1]\n",
    "# *  Traceback (most recent call last):\n",
    "#    File \"<stdin>\", line 1, in <module>\n",
    "#    TypeError: can't multiply sequence by non-int of type 'list'\n",
    "#  True\n",
    "#*    Traceback (most recent call last):\n",
    "#     File \"<stdin>\", line 1, in <module>\n",
    "#     TypeError: unsupported operand type(s) for +: 'dict' and 'dict'\n",
    "\n",
    "# 4. 4. Create a Python script file named data_types_and_variables.py. Inside the script, write Python code to describe the following scenarios. You will need to create and assign variables and use operators.\n",
    "# ***DONE***"
   ]
  },
  {
   "cell_type": "code",
   "execution_count": 1,
   "metadata": {},
   "outputs": [
    {
     "name": "stdout",
     "output_type": "stream",
     "text": [
      "27\n"
     ]
    }
   ],
   "source": [
    "#5. You have rented some movies for your kids:\n",
    "\n",
    "#The Little Mermaid for 3 days\n",
    "#Brother Bear for 5 days\n",
    "#Hercules for 1 day\n",
    "#If the daily fee to rent a movie is 3 dollars, how much will you have to pay?\n",
    "\n",
    "AMOUNT_DUE = ((3 * 3) + (3 * 5) + (3 * 1)) \n",
    "print(AMOUNT_DUE)"
   ]
  },
  {
   "cell_type": "code",
   "execution_count": 8,
   "metadata": {},
   "outputs": [
    {
     "name": "stdout",
     "output_type": "stream",
     "text": [
      "7420\n"
     ]
    }
   ],
   "source": [
    "#6. Suppose you're working as a contractor for 3 companies: Google, Amazon and Facebook.\n",
    "\n",
    "#They pay you the following hourly rates:\n",
    "\n",
    "#Google: 400 dollar\n",
    "#Amazon: 380 dollars\n",
    "# Facebook: 350 dollars\n",
    "#This week you worked: 10 hours for Facebook, 6 hours for Google and 4 hours for Amazon.\n",
    "\n",
    "#How much will you receive in payment for this week?\n",
    "\n",
    "pay =  (350 * 10) + (400 * 6) + (380 * 4)\n",
    "print(pay)"
   ]
  },
  {
   "cell_type": "code",
   "execution_count": 10,
   "metadata": {},
   "outputs": [
    {
     "name": "stdout",
     "output_type": "stream",
     "text": [
      "The Student can be enrolled in the class.\n"
     ]
    }
   ],
   "source": [
    "#7. A student can be enrolled to a class only if the class is not full and the class schedule does not conflict with her current schedule.\n",
    "class_is_full = False\n",
    "class_schedule_conflicts = False\n",
    "if not class_is_full and not class_schedule_conflicts:\n",
    "    print('The Student can be enrolled in the class.')\n",
    "else:\n",
    "    print('The Student cannot be enrolled in the class.')"
   ]
  },
  {
   "cell_type": "code",
   "execution_count": 18,
   "metadata": {},
   "outputs": [
    {
     "name": "stdout",
     "output_type": "stream",
     "text": [
      "Offer applied, Thank you for being a Premium Member!\n"
     ]
    }
   ],
   "source": [
    "#8. A product offer can be applied only if people buys more than 2 items, and the offer has not expired. Premium members do not need to buy a specific amount of products.\n",
    "from datetime import date\n",
    "num_items = 3\n",
    "exp_date = date(3000,12,23)\n",
    "mem_type = 'premium'\n",
    "todays_date = date.today()\n",
    "if num_items > 1 and exp_date > todays_date and mem_type == 'member':\n",
    "   print(\"Thank You\")\n",
    "elif mem_type == 'premium' and exp_date > todays_date:\n",
    "   print(\"Offer applied, Thank you for being a Premium Member!\")\n",
    "else:\n",
    "   print(\"Become a premium member or purchase 2 more items for today's offer!\")\n",
    "\n"
   ]
  },
  {
   "cell_type": "code",
   "execution_count": 21,
   "metadata": {},
   "outputs": [
    {
     "name": "stdout",
     "output_type": "stream",
     "text": [
      "PASSWORD SAVED\n"
     ]
    }
   ],
   "source": [
    "#9. Continue working in the data_types_and_variables.py file. Use the following code to follow the instructions below:\n",
    "\n",
    "\n",
    "#username = 'codeup'\n",
    "#password = 'notastrongpassword'\n",
    "#Create a variable that holds a boolean value for each of the following conditions:\n",
    "\n",
    "\n",
    "#The password must be at least 5 characters\n",
    "#The username must be no more than 20 characters\n",
    "#The password must not be the same as the username\n",
    "#Bonus Neither the username or password can start or end with whitespace\n",
    "\n",
    "\n",
    "username = 'codeup'.strip()\n",
    "password = 'notastrongpassword'.strip()\n",
    "\n",
    "if len(password) >= 5 and not len(username) and len(username) > 20:\n",
    "    print('Password must be at least 5 characters/n The password must not b the same as the username.')\n",
    "else:\n",
    "    print(\"PASSWORD SAVED\")\n",
    "\n"
   ]
  },
  {
   "cell_type": "code",
   "execution_count": null,
   "metadata": {},
   "outputs": [],
   "source": []
  }
 ],
 "metadata": {
  "kernelspec": {
   "display_name": "Python 3",
   "language": "python",
   "name": "python3"
  },
  "language_info": {
   "codemirror_mode": {
    "name": "ipython",
    "version": 3
   },
   "file_extension": ".py",
   "mimetype": "text/x-python",
   "name": "python",
   "nbconvert_exporter": "python",
   "pygments_lexer": "ipython3",
   "version": "3.9.6"
  },
  "orig_nbformat": 4,
  "vscode": {
   "interpreter": {
    "hash": "31f2aee4e71d21fbe5cf8b01ff0e069b9275f58929596ceb00d14d90e3e16cd6"
   }
  }
 },
 "nbformat": 4,
 "nbformat_minor": 2
}
