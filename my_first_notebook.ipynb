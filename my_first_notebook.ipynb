{
 "cells": [
  {
   "cell_type": "code",
   "execution_count": 2,
   "id": "620ceca8",
   "metadata": {},
   "outputs": [
    {
     "name": "stdout",
     "output_type": "stream",
     "text": [
      "Stacy\n"
     ]
    }
   ],
   "source": [
    "your_mom = \"Stacy\"\n",
    "print(your_mom)\n"
   ]
  },
  {
   "cell_type": "code",
   "execution_count": 3,
   "id": "6ec4c66c",
   "metadata": {},
   "outputs": [
    {
     "name": "stdout",
     "output_type": "stream",
     "text": [
      "mars\n"
     ]
    }
   ],
   "source": [
    "where_are_we = \"mars\"\n",
    "print(where_are_we)"
   ]
  },
  {
   "cell_type": "code",
   "execution_count": 4,
   "id": "d2956d3c",
   "metadata": {},
   "outputs": [
    {
     "name": "stdout",
     "output_type": "stream",
     "text": [
      "Yes, we are done!\n"
     ]
    }
   ],
   "source": [
    "wewanttoknow = \"Yes, we are done!\"\n",
    "print(wewanttoknow)"
   ]
  },
  {
   "cell_type": "code",
   "execution_count": 5,
   "id": "24f88e68",
   "metadata": {},
   "outputs": [
    {
     "name": "stdout",
     "output_type": "stream",
     "text": [
      "run\n"
     ]
    }
   ],
   "source": [
    "shift_return = \"run\"\n",
    "print(shift_return)"
   ]
  },
  {
   "cell_type": "code",
   "execution_count": 6,
   "id": "62068510",
   "metadata": {},
   "outputs": [
    {
     "name": "stdout",
     "output_type": "stream",
     "text": [
      "run and open a new cell below\n"
     ]
    }
   ],
   "source": [
    "option_return = \"run and open a new cell below\"\n",
    "print(option_return)"
   ]
  },
  {
   "cell_type": "code",
   "execution_count": 8,
   "id": "551c1e94",
   "metadata": {},
   "outputs": [
    {
     "name": "stdout",
     "output_type": "stream",
     "text": [
      "command delete\n"
     ]
    }
   ],
   "source": [
    "delete_line_left_of_cursor = \"command delete\"\n",
    "print(delete_line_left_of_cursor)"
   ]
  }
 ],
 "metadata": {
  "kernelspec": {
   "display_name": "Python 3 (ipykernel)",
   "language": "python",
   "name": "python3"
  },
  "language_info": {
   "codemirror_mode": {
    "name": "ipython",
    "version": 3
   },
   "file_extension": ".py",
   "mimetype": "text/x-python",
   "name": "python",
   "nbconvert_exporter": "python",
   "pygments_lexer": "ipython3",
   "version": "3.9.13"
  }
 },
 "nbformat": 4,
 "nbformat_minor": 5
}
